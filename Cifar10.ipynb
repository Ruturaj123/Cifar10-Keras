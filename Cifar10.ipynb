{
  "nbformat": 4,
  "nbformat_minor": 0,
  "metadata": {
    "colab": {
      "name": "Cifar10.ipynb",
      "version": "0.3.2",
      "provenance": [],
      "collapsed_sections": [],
      "include_colab_link": true
    },
    "kernelspec": {
      "name": "python3",
      "display_name": "Python 3"
    },
    "accelerator": "GPU"
  },
  "cells": [
    {
      "cell_type": "markdown",
      "metadata": {
        "id": "view-in-github",
        "colab_type": "text"
      },
      "source": [
        "[View in Colaboratory](https://colab.research.google.com/github/Ruturaj123/Cifar10-Keras/blob/master/Cifar10.ipynb)"
      ]
    },
    {
      "metadata": {
        "id": "7-XTVTbhgYwh",
        "colab_type": "code",
        "colab": {}
      },
      "cell_type": "code",
      "source": [
        "import numpy as np\n",
        "from keras.datasets import cifar10\n",
        "from keras.models import Sequential\n",
        "from keras.layers import Dense, Dropout, Flatten\n",
        "from keras.constraints import maxnorm\n",
        "from keras.optimizers import Adam\n",
        "from keras.layers.convolutional import Conv2D, MaxPooling2D\n",
        "from keras.utils import np_utils\n",
        "from keras.callbacks import ReduceLROnPlateau\n",
        "from keras.preprocessing.image import ImageDataGenerator\n",
        "import matplotlib.pyplot as plt\n",
        "from scipy.misc import toimage\n",
        "\n",
        "np.random.seed(2)"
      ],
      "execution_count": 0,
      "outputs": []
    },
    {
      "metadata": {
        "id": "8wrHZX0mg6gJ",
        "colab_type": "code",
        "colab": {
          "base_uri": "https://localhost:8080/",
          "height": 128
        },
        "outputId": "24e8597b-33ad-4ba9-8809-9f9bb0e6fb4c"
      },
      "cell_type": "code",
      "source": [
        "(X_train, y_train), (X_test, y_test) = cifar10.load_data()\n",
        "for i in range(5):\n",
        "\tplt.subplot(150 + 1 + i)\n",
        "\tplt.imshow(toimage(X_train[i]))\n",
        "plt.show()"
      ],
      "execution_count": 38,
      "outputs": [
        {
          "output_type": "display_data",
          "data": {
            "image/png": "[encoded data removed]",
            "text/plain": [
              "<matplotlib.figure.Figure at 0x7f7c9b5aefd0>"
            ]
          },
          "metadata": {
            "tags": []
          }
        }
      ]
    },
    {
      "metadata": {
        "id": "Azp-j-tZhhAk",
        "colab_type": "code",
        "colab": {}
      },
      "cell_type": "code",
      "source": [
        "X_train = X_train.astype('float32') / 255.0\n",
        "X_test = X_test.astype('float32') / 255.0"
      ],
      "execution_count": 0,
      "outputs": []
    },
    {
      "metadata": {
        "id": "M4GUAbbHjrsO",
        "colab_type": "code",
        "colab": {}
      },
      "cell_type": "code",
      "source": [
        "y_train = np_utils.to_categorical(y_train)\n",
        "y_test = np_utils.to_categorical(y_test)\n",
        "num_of_classes = y_test.shape[1]"
      ],
      "execution_count": 0,
      "outputs": []
    },
    {
      "metadata": {
        "id": "rs2dYBSCkBJa",
        "colab_type": "code",
        "colab": {}
      },
      "cell_type": "code",
      "source": [
        "model = Sequential()\n",
        "model.add(Conv2D(32, (3, 3), input_shape=(32, 32, 3), padding='same', activation='relu'))\n",
        "model.add(Conv2D(32, (3, 3), padding='same', activation='relu'))\n",
        "model.add(MaxPooling2D((2, 2)))\n",
        "model.add(Dropout(0.25))\n",
        "model.add(Conv2D(64, (3, 3), padding='same', activation='relu'))\n",
        "model.add(Conv2D(64, (3, 3), padding='same', activation='relu'))\n",
        "model.add(MaxPooling2D((2, 2)))\n",
        "model.add(Dropout(0.25))\n",
        "model.add(Conv2D(128, (3, 3), padding='same', activation='relu'))\n",
        "model.add(Conv2D(128, (3, 3), padding='same', activation='relu'))\n",
        "model.add(MaxPooling2D((2, 2)))\n",
        "model.add(Dropout(0.25))\n",
        "model.add(Flatten())\n",
        "model.add(Dense(1024, activation='relu', kernel_constraint=maxnorm(3)))\n",
        "model.add(Dropout(0.2))\n",
        "model.add(Dense(512, activation='relu', kernel_constraint=maxnorm(3)))\n",
        "model.add(Dropout(0.2))\n",
        "model.add(Dense(num_of_classes, activation='softmax'))"
      ],
      "execution_count": 0,
      "outputs": []
    },
    {
      "metadata": {
        "id": "Qhxnd8LRlr_a",
        "colab_type": "code",
        "colab": {}
      },
      "cell_type": "code",
      "source": [
        "epochs = 50\n",
        "learning_rate = 0.01\n",
        "\n",
        "reduce_lr = ReduceLROnPlateau(monitor='val_loss', factor=0.005, patience=10, verbose=0, mode='auto', min_delta=0.0001, cooldown=0, min_lr=0)\n",
        "\n",
        "datagen = ImageDataGenerator(\n",
        "    featurewise_center=True,\n",
        "    featurewise_std_normalization=True,\n",
        "    rotation_range=20,\n",
        "    width_shift_range=0.2,\n",
        "    height_shift_range=0.2,\n",
        "    horizontal_flip=True)\n",
        "\n",
        "datagen.fit(X_train)"
      ],
      "execution_count": 0,
      "outputs": []
    },
    {
      "metadata": {
        "id": "Mv_afDamoOF_",
        "colab_type": "code",
        "colab": {
          "base_uri": "https://localhost:8080/",
          "height": 791
        },
        "outputId": "3fdcade0-6436-4e8a-a703-e3805e261110"
      },
      "cell_type": "code",
      "source": [
        "model.compile(loss='categorical_crossentropy', optimizer='adam', metrics=['accuracy'])\n",
        "model.summary()"
      ],
      "execution_count": 43,
      "outputs": [
        {
          "output_type": "stream",
          "text": [
            "_________________________________________________________________\n",
            "Layer (type)                 Output Shape              Param #   \n",
            "=================================================================\n",
            "conv2d_17 (Conv2D)           (None, 32, 32, 32)        896       \n",
            "_________________________________________________________________\n",
            "conv2d_18 (Conv2D)           (None, 32, 32, 32)        9248      \n",
            "_________________________________________________________________\n",
            "max_pooling2d_9 (MaxPooling2 (None, 16, 16, 32)        0         \n",
            "_________________________________________________________________\n",
            "dropout_12 (Dropout)         (None, 16, 16, 32)        0         \n",
            "_________________________________________________________________\n",
            "conv2d_19 (Conv2D)           (None, 16, 16, 64)        18496     \n",
            "_________________________________________________________________\n",
            "conv2d_20 (Conv2D)           (None, 16, 16, 64)        36928     \n",
            "_________________________________________________________________\n",
            "max_pooling2d_10 (MaxPooling (None, 8, 8, 64)          0         \n",
            "_________________________________________________________________\n",
            "dropout_13 (Dropout)         (None, 8, 8, 64)          0         \n",
            "_________________________________________________________________\n",
            "conv2d_21 (Conv2D)           (None, 8, 8, 128)         73856     \n",
            "_________________________________________________________________\n",
            "conv2d_22 (Conv2D)           (None, 8, 8, 128)         147584    \n",
            "_________________________________________________________________\n",
            "max_pooling2d_11 (MaxPooling (None, 4, 4, 128)         0         \n",
            "_________________________________________________________________\n",
            "dropout_14 (Dropout)         (None, 4, 4, 128)         0         \n",
            "_________________________________________________________________\n",
            "flatten_4 (Flatten)          (None, 2048)              0         \n",
            "_________________________________________________________________\n",
            "dense_10 (Dense)             (None, 1024)              2098176   \n",
            "_________________________________________________________________\n",
            "dropout_15 (Dropout)         (None, 1024)              0         \n",
            "_________________________________________________________________\n",
            "dense_11 (Dense)             (None, 512)               524800    \n",
            "_________________________________________________________________\n",
            "dropout_16 (Dropout)         (None, 512)               0         \n",
            "_________________________________________________________________\n",
            "dense_12 (Dense)             (None, 10)                5130      \n",
            "=================================================================\n",
            "Total params: 2,915,114\n",
            "Trainable params: 2,915,114\n",
            "Non-trainable params: 0\n",
            "_________________________________________________________________\n"
          ],
          "name": "stdout"
        }
      ]
    },
    {
      "metadata": {
        "id": "iBhlMRgvo3Kk",
        "colab_type": "code",
        "colab": {
          "base_uri": "https://localhost:8080/",
          "height": 1853
        },
        "outputId": "833aa6e1-f06d-4aca-c501-48202398404e"
      },
      "cell_type": "code",
      "source": [
        "model.fit(X_train, y_train, batch_size=64, validation_data=(X_test, y_test), epochs=epochs, callbacks=[reduce_lr])"
      ],
      "execution_count": 47,
      "outputs": [
        {
          "output_type": "stream",
          "text": [
            "Train on 50000 samples, validate on 10000 samples\n",
            "Epoch 1/50\n",
            "50000/50000 [==============================] - 36s 723us/step - loss: 0.6881 - acc: 0.7626 - val_loss: 0.5820 - val_acc: 0.8056\n",
            "Epoch 2/50\n",
            "50000/50000 [==============================] - 28s 570us/step - loss: 0.5931 - acc: 0.7953 - val_loss: 0.5536 - val_acc: 0.8108\n",
            "Epoch 3/50\n",
            "50000/50000 [==============================] - 28s 568us/step - loss: 0.5551 - acc: 0.8065 - val_loss: 0.6202 - val_acc: 0.7937\n",
            "Epoch 4/50\n",
            "50000/50000 [==============================] - 29s 570us/step - loss: 0.5259 - acc: 0.8171 - val_loss: 0.5299 - val_acc: 0.8230\n",
            "Epoch 5/50\n",
            "50000/50000 [==============================] - 28s 568us/step - loss: 0.5040 - acc: 0.8241 - val_loss: 0.5347 - val_acc: 0.8221\n",
            "Epoch 6/50\n",
            "50000/50000 [==============================] - 28s 567us/step - loss: 0.4834 - acc: 0.8313 - val_loss: 0.5585 - val_acc: 0.8182\n",
            "Epoch 7/50\n",
            "50000/50000 [==============================] - 28s 568us/step - loss: 0.4675 - acc: 0.8374 - val_loss: 0.5441 - val_acc: 0.8212\n",
            "Epoch 8/50\n",
            "50000/50000 [==============================] - 28s 569us/step - loss: 0.4468 - acc: 0.8445 - val_loss: 0.5131 - val_acc: 0.8310\n",
            "Epoch 9/50\n",
            "50000/50000 [==============================] - 28s 567us/step - loss: 0.4350 - acc: 0.8500 - val_loss: 0.5193 - val_acc: 0.8337\n",
            "Epoch 10/50\n",
            "50000/50000 [==============================] - 28s 567us/step - loss: 0.4237 - acc: 0.8509 - val_loss: 0.5590 - val_acc: 0.8176\n",
            "Epoch 11/50\n",
            "50000/50000 [==============================] - 29s 571us/step - loss: 0.4092 - acc: 0.8586 - val_loss: 0.5341 - val_acc: 0.8269\n",
            "Epoch 12/50\n",
            "50000/50000 [==============================] - 28s 566us/step - loss: 0.4031 - acc: 0.8596 - val_loss: 0.5330 - val_acc: 0.8291\n",
            "Epoch 13/50\n",
            "50000/50000 [==============================] - 28s 569us/step - loss: 0.3891 - acc: 0.8644 - val_loss: 0.5136 - val_acc: 0.8303\n",
            "Epoch 14/50\n",
            "50000/50000 [==============================] - 28s 568us/step - loss: 0.3785 - acc: 0.8683 - val_loss: 0.5614 - val_acc: 0.8228\n",
            "Epoch 15/50\n",
            "50000/50000 [==============================] - 29s 570us/step - loss: 0.3696 - acc: 0.8722 - val_loss: 0.5340 - val_acc: 0.8310\n",
            "Epoch 16/50\n",
            "50000/50000 [==============================] - 28s 569us/step - loss: 0.3663 - acc: 0.8725 - val_loss: 0.5339 - val_acc: 0.8289\n",
            "Epoch 17/50\n",
            "50000/50000 [==============================] - 29s 570us/step - loss: 0.3594 - acc: 0.8761 - val_loss: 0.5559 - val_acc: 0.8293\n",
            "Epoch 18/50\n",
            "50000/50000 [==============================] - 28s 566us/step - loss: 0.3582 - acc: 0.8747 - val_loss: 0.5144 - val_acc: 0.8372\n",
            "Epoch 19/50\n",
            "50000/50000 [==============================] - 28s 569us/step - loss: 0.2799 - acc: 0.9024 - val_loss: 0.4948 - val_acc: 0.8441\n",
            "Epoch 20/50\n",
            "50000/50000 [==============================] - 28s 568us/step - loss: 0.2646 - acc: 0.9069 - val_loss: 0.4921 - val_acc: 0.8466\n",
            "Epoch 21/50\n",
            "50000/50000 [==============================] - 28s 568us/step - loss: 0.2561 - acc: 0.9103 - val_loss: 0.4915 - val_acc: 0.8463\n",
            "Epoch 22/50\n",
            "50000/50000 [==============================] - 28s 568us/step - loss: 0.2462 - acc: 0.9129 - val_loss: 0.4925 - val_acc: 0.8474\n",
            "Epoch 23/50\n",
            "50000/50000 [==============================] - 28s 565us/step - loss: 0.2409 - acc: 0.9137 - val_loss: 0.4929 - val_acc: 0.8483\n",
            "Epoch 24/50\n",
            "50000/50000 [==============================] - 28s 568us/step - loss: 0.2359 - acc: 0.9171 - val_loss: 0.4945 - val_acc: 0.8479\n",
            "Epoch 25/50\n",
            "50000/50000 [==============================] - 28s 569us/step - loss: 0.2345 - acc: 0.9184 - val_loss: 0.4949 - val_acc: 0.8477\n",
            "Epoch 26/50\n",
            "50000/50000 [==============================] - 28s 567us/step - loss: 0.2304 - acc: 0.9176 - val_loss: 0.4942 - val_acc: 0.8495\n",
            "Epoch 27/50\n",
            "50000/50000 [==============================] - 28s 566us/step - loss: 0.2303 - acc: 0.9185 - val_loss: 0.4953 - val_acc: 0.8498\n",
            "Epoch 28/50\n",
            "50000/50000 [==============================] - 28s 568us/step - loss: 0.2240 - acc: 0.9213 - val_loss: 0.4960 - val_acc: 0.8499\n",
            "Epoch 29/50\n",
            "50000/50000 [==============================] - 28s 567us/step - loss: 0.2219 - acc: 0.9205 - val_loss: 0.4964 - val_acc: 0.8503\n",
            "Epoch 30/50\n",
            "50000/50000 [==============================] - 28s 568us/step - loss: 0.2177 - acc: 0.9218 - val_loss: 0.4972 - val_acc: 0.8511\n",
            "Epoch 31/50\n",
            "50000/50000 [==============================] - 28s 568us/step - loss: 0.2140 - acc: 0.9248 - val_loss: 0.4982 - val_acc: 0.8509\n",
            "Epoch 32/50\n",
            "50000/50000 [==============================] - 28s 569us/step - loss: 0.2156 - acc: 0.9235 - val_loss: 0.4982 - val_acc: 0.8509\n",
            "Epoch 33/50\n",
            "50000/50000 [==============================] - 28s 569us/step - loss: 0.2147 - acc: 0.9238 - val_loss: 0.4982 - val_acc: 0.8509\n",
            "Epoch 34/50\n",
            "50000/50000 [==============================] - 28s 565us/step - loss: 0.2149 - acc: 0.9245 - val_loss: 0.4982 - val_acc: 0.8509\n",
            "Epoch 35/50\n",
            "50000/50000 [==============================] - 28s 568us/step - loss: 0.2132 - acc: 0.9247 - val_loss: 0.4982 - val_acc: 0.8509\n",
            "Epoch 36/50\n",
            "50000/50000 [==============================] - 28s 567us/step - loss: 0.2125 - acc: 0.9253 - val_loss: 0.4982 - val_acc: 0.8509\n",
            "Epoch 37/50\n",
            "50000/50000 [==============================] - 28s 568us/step - loss: 0.2144 - acc: 0.9251 - val_loss: 0.4982 - val_acc: 0.8508\n",
            "Epoch 38/50\n",
            "50000/50000 [==============================] - 28s 569us/step - loss: 0.2166 - acc: 0.9228 - val_loss: 0.4982 - val_acc: 0.8508\n",
            "Epoch 39/50\n",
            "50000/50000 [==============================] - 28s 568us/step - loss: 0.2105 - acc: 0.9257 - val_loss: 0.4982 - val_acc: 0.8508\n",
            "Epoch 40/50\n",
            "50000/50000 [==============================] - 28s 567us/step - loss: 0.2119 - acc: 0.9249 - val_loss: 0.4982 - val_acc: 0.8508\n",
            "Epoch 41/50\n",
            "50000/50000 [==============================] - 28s 568us/step - loss: 0.2166 - acc: 0.9239 - val_loss: 0.4982 - val_acc: 0.8508\n",
            "Epoch 42/50\n",
            "50000/50000 [==============================] - 28s 568us/step - loss: 0.2132 - acc: 0.9252 - val_loss: 0.4982 - val_acc: 0.8508\n",
            "Epoch 43/50\n",
            "50000/50000 [==============================] - 28s 567us/step - loss: 0.2140 - acc: 0.9245 - val_loss: 0.4982 - val_acc: 0.8508\n",
            "Epoch 44/50\n",
            "50000/50000 [==============================] - 28s 567us/step - loss: 0.2107 - acc: 0.9258 - val_loss: 0.4982 - val_acc: 0.8508\n",
            "Epoch 45/50\n",
            "50000/50000 [==============================] - 28s 566us/step - loss: 0.2163 - acc: 0.9232 - val_loss: 0.4982 - val_acc: 0.8508\n",
            "Epoch 46/50\n",
            "50000/50000 [==============================] - 28s 569us/step - loss: 0.2149 - acc: 0.9250 - val_loss: 0.4982 - val_acc: 0.8508\n",
            "Epoch 47/50\n",
            "50000/50000 [==============================] - 28s 569us/step - loss: 0.2169 - acc: 0.9246 - val_loss: 0.4982 - val_acc: 0.8508\n",
            "Epoch 48/50\n",
            "50000/50000 [==============================] - 28s 569us/step - loss: 0.2149 - acc: 0.9248 - val_loss: 0.4982 - val_acc: 0.8508\n",
            "Epoch 49/50\n",
            "50000/50000 [==============================] - 28s 569us/step - loss: 0.2141 - acc: 0.9247 - val_loss: 0.4982 - val_acc: 0.8508\n",
            "Epoch 50/50\n",
            "50000/50000 [==============================] - 28s 570us/step - loss: 0.2138 - acc: 0.9254 - val_loss: 0.4982 - val_acc: 0.8508\n"
          ],
          "name": "stdout"
        },
        {
          "output_type": "execute_result",
          "data": {
            "text/plain": [
              "<keras.callbacks.History at 0x7f7c1a7c2908>"
            ]
          },
          "metadata": {
            "tags": []
          },
          "execution_count": 47
        }
      ]
    },
    {
      "metadata": {
        "id": "GTuzwOxnpYiE",
        "colab_type": "code",
        "colab": {
          "base_uri": "https://localhost:8080/",
          "height": 35
        },
        "outputId": "7451a427-fd40-4c1f-a79f-54e930192c4e"
      },
      "cell_type": "code",
      "source": [
        "scores = model.evaluate(X_test, y_test, verbose=0)\n",
        "print(\"Accuracy: %.2f%%\" % (scores[1]*100))"
      ],
      "execution_count": 48,
      "outputs": [
        {
          "output_type": "stream",
          "text": [
            "Accuracy: 85.08%\n"
          ],
          "name": "stdout"
        }
      ]
    }
  ]
}